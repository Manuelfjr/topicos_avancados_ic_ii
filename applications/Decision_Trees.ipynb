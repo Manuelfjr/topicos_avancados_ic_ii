{
  "nbformat": 4,
  "nbformat_minor": 0,
  "metadata": {
    "colab": {
      "provenance": []
    },
    "kernelspec": {
      "name": "python3",
      "display_name": "Python 3"
    },
    "language_info": {
      "name": "python"
    }
  },
  "cells": [
    {
      "cell_type": "markdown",
      "source": [
        "**SETTINGS**"
      ],
      "metadata": {
        "id": "pLb-Dd45kgK5"
      }
    },
    {
      "cell_type": "code",
      "execution_count": 2,
      "metadata": {
        "colab": {
          "base_uri": "https://localhost:8080/"
        },
        "id": "brWwZHCl_B7k",
        "outputId": "fdaf2577-6508-474a-e00a-201f541f9102"
      },
      "outputs": [
        {
          "output_type": "stream",
          "name": "stdout",
          "text": [
            "Mounted at /content/drive\n"
          ]
        }
      ],
      "source": [
        " from google.colab import drive\n",
        "\n",
        "drive.mount('/content/drive')"
      ]
    },
    {
      "cell_type": "code",
      "source": [
        "import pandas as pd\n",
        "\n",
        "import pydotplus #pip install pydotplus\n",
        "import numpy as np"
      ],
      "metadata": {
        "id": "0i15VLlm_7i1"
      },
      "execution_count": 3,
      "outputs": []
    },
    {
      "cell_type": "markdown",
      "source": [
        "# Reading a dataset"
      ],
      "metadata": {
        "id": "1OOfD7iC3ge7"
      }
    },
    {
      "cell_type": "code",
      "source": [
        "df = pd.read_csv('/content/drive/My Drive/datasets/diabetes.csv')\n",
        "\n",
        "df.head()"
      ],
      "metadata": {
        "colab": {
          "base_uri": "https://localhost:8080/",
          "height": 206
        },
        "id": "gYMmeoa-Ajvb",
        "outputId": "5d5605cf-6050-4613-c437-9de5c751f34b"
      },
      "execution_count": 8,
      "outputs": [
        {
          "output_type": "execute_result",
          "data": {
            "text/plain": [
              "   preg  plas  pres  skin  insu  mass   pedi  age            class\n",
              "0     6   148    72    35     0  33.6  0.627   50  tested_positive\n",
              "1     1    85    66    29     0  26.6  0.351   31  tested_negative\n",
              "2     8   183    64     0     0  23.3  0.672   32  tested_positive\n",
              "3     1    89    66    23    94  28.1  0.167   21  tested_negative\n",
              "4     0   137    40    35   168  43.1  2.288   33  tested_positive"
            ],
            "text/html": [
              "\n",
              "  <div id=\"df-baa5a545-a7b4-4991-bdb6-14eb5f37eacf\" class=\"colab-df-container\">\n",
              "    <div>\n",
              "<style scoped>\n",
              "    .dataframe tbody tr th:only-of-type {\n",
              "        vertical-align: middle;\n",
              "    }\n",
              "\n",
              "    .dataframe tbody tr th {\n",
              "        vertical-align: top;\n",
              "    }\n",
              "\n",
              "    .dataframe thead th {\n",
              "        text-align: right;\n",
              "    }\n",
              "</style>\n",
              "<table border=\"1\" class=\"dataframe\">\n",
              "  <thead>\n",
              "    <tr style=\"text-align: right;\">\n",
              "      <th></th>\n",
              "      <th>preg</th>\n",
              "      <th>plas</th>\n",
              "      <th>pres</th>\n",
              "      <th>skin</th>\n",
              "      <th>insu</th>\n",
              "      <th>mass</th>\n",
              "      <th>pedi</th>\n",
              "      <th>age</th>\n",
              "      <th>class</th>\n",
              "    </tr>\n",
              "  </thead>\n",
              "  <tbody>\n",
              "    <tr>\n",
              "      <th>0</th>\n",
              "      <td>6</td>\n",
              "      <td>148</td>\n",
              "      <td>72</td>\n",
              "      <td>35</td>\n",
              "      <td>0</td>\n",
              "      <td>33.6</td>\n",
              "      <td>0.627</td>\n",
              "      <td>50</td>\n",
              "      <td>tested_positive</td>\n",
              "    </tr>\n",
              "    <tr>\n",
              "      <th>1</th>\n",
              "      <td>1</td>\n",
              "      <td>85</td>\n",
              "      <td>66</td>\n",
              "      <td>29</td>\n",
              "      <td>0</td>\n",
              "      <td>26.6</td>\n",
              "      <td>0.351</td>\n",
              "      <td>31</td>\n",
              "      <td>tested_negative</td>\n",
              "    </tr>\n",
              "    <tr>\n",
              "      <th>2</th>\n",
              "      <td>8</td>\n",
              "      <td>183</td>\n",
              "      <td>64</td>\n",
              "      <td>0</td>\n",
              "      <td>0</td>\n",
              "      <td>23.3</td>\n",
              "      <td>0.672</td>\n",
              "      <td>32</td>\n",
              "      <td>tested_positive</td>\n",
              "    </tr>\n",
              "    <tr>\n",
              "      <th>3</th>\n",
              "      <td>1</td>\n",
              "      <td>89</td>\n",
              "      <td>66</td>\n",
              "      <td>23</td>\n",
              "      <td>94</td>\n",
              "      <td>28.1</td>\n",
              "      <td>0.167</td>\n",
              "      <td>21</td>\n",
              "      <td>tested_negative</td>\n",
              "    </tr>\n",
              "    <tr>\n",
              "      <th>4</th>\n",
              "      <td>0</td>\n",
              "      <td>137</td>\n",
              "      <td>40</td>\n",
              "      <td>35</td>\n",
              "      <td>168</td>\n",
              "      <td>43.1</td>\n",
              "      <td>2.288</td>\n",
              "      <td>33</td>\n",
              "      <td>tested_positive</td>\n",
              "    </tr>\n",
              "  </tbody>\n",
              "</table>\n",
              "</div>\n",
              "    <div class=\"colab-df-buttons\">\n",
              "\n",
              "  <div class=\"colab-df-container\">\n",
              "    <button class=\"colab-df-convert\" onclick=\"convertToInteractive('df-baa5a545-a7b4-4991-bdb6-14eb5f37eacf')\"\n",
              "            title=\"Convert this dataframe to an interactive table.\"\n",
              "            style=\"display:none;\">\n",
              "\n",
              "  <svg xmlns=\"http://www.w3.org/2000/svg\" height=\"24px\" viewBox=\"0 -960 960 960\">\n",
              "    <path d=\"M120-120v-720h720v720H120Zm60-500h600v-160H180v160Zm220 220h160v-160H400v160Zm0 220h160v-160H400v160ZM180-400h160v-160H180v160Zm440 0h160v-160H620v160ZM180-180h160v-160H180v160Zm440 0h160v-160H620v160Z\"/>\n",
              "  </svg>\n",
              "    </button>\n",
              "\n",
              "  <style>\n",
              "    .colab-df-container {\n",
              "      display:flex;\n",
              "      gap: 12px;\n",
              "    }\n",
              "\n",
              "    .colab-df-convert {\n",
              "      background-color: #E8F0FE;\n",
              "      border: none;\n",
              "      border-radius: 50%;\n",
              "      cursor: pointer;\n",
              "      display: none;\n",
              "      fill: #1967D2;\n",
              "      height: 32px;\n",
              "      padding: 0 0 0 0;\n",
              "      width: 32px;\n",
              "    }\n",
              "\n",
              "    .colab-df-convert:hover {\n",
              "      background-color: #E2EBFA;\n",
              "      box-shadow: 0px 1px 2px rgba(60, 64, 67, 0.3), 0px 1px 3px 1px rgba(60, 64, 67, 0.15);\n",
              "      fill: #174EA6;\n",
              "    }\n",
              "\n",
              "    .colab-df-buttons div {\n",
              "      margin-bottom: 4px;\n",
              "    }\n",
              "\n",
              "    [theme=dark] .colab-df-convert {\n",
              "      background-color: #3B4455;\n",
              "      fill: #D2E3FC;\n",
              "    }\n",
              "\n",
              "    [theme=dark] .colab-df-convert:hover {\n",
              "      background-color: #434B5C;\n",
              "      box-shadow: 0px 1px 3px 1px rgba(0, 0, 0, 0.15);\n",
              "      filter: drop-shadow(0px 1px 2px rgba(0, 0, 0, 0.3));\n",
              "      fill: #FFFFFF;\n",
              "    }\n",
              "  </style>\n",
              "\n",
              "    <script>\n",
              "      const buttonEl =\n",
              "        document.querySelector('#df-baa5a545-a7b4-4991-bdb6-14eb5f37eacf button.colab-df-convert');\n",
              "      buttonEl.style.display =\n",
              "        google.colab.kernel.accessAllowed ? 'block' : 'none';\n",
              "\n",
              "      async function convertToInteractive(key) {\n",
              "        const element = document.querySelector('#df-baa5a545-a7b4-4991-bdb6-14eb5f37eacf');\n",
              "        const dataTable =\n",
              "          await google.colab.kernel.invokeFunction('convertToInteractive',\n",
              "                                                    [key], {});\n",
              "        if (!dataTable) return;\n",
              "\n",
              "        const docLinkHtml = 'Like what you see? Visit the ' +\n",
              "          '<a target=\"_blank\" href=https://colab.research.google.com/notebooks/data_table.ipynb>data table notebook</a>'\n",
              "          + ' to learn more about interactive tables.';\n",
              "        element.innerHTML = '';\n",
              "        dataTable['output_type'] = 'display_data';\n",
              "        await google.colab.output.renderOutput(dataTable, element);\n",
              "        const docLink = document.createElement('div');\n",
              "        docLink.innerHTML = docLinkHtml;\n",
              "        element.appendChild(docLink);\n",
              "      }\n",
              "    </script>\n",
              "  </div>\n",
              "\n",
              "\n",
              "<div id=\"df-89e42338-eb17-4c1d-953a-01e4dfaad510\">\n",
              "  <button class=\"colab-df-quickchart\" onclick=\"quickchart('df-89e42338-eb17-4c1d-953a-01e4dfaad510')\"\n",
              "            title=\"Suggest charts\"\n",
              "            style=\"display:none;\">\n",
              "\n",
              "<svg xmlns=\"http://www.w3.org/2000/svg\" height=\"24px\"viewBox=\"0 0 24 24\"\n",
              "     width=\"24px\">\n",
              "    <g>\n",
              "        <path d=\"M19 3H5c-1.1 0-2 .9-2 2v14c0 1.1.9 2 2 2h14c1.1 0 2-.9 2-2V5c0-1.1-.9-2-2-2zM9 17H7v-7h2v7zm4 0h-2V7h2v10zm4 0h-2v-4h2v4z\"/>\n",
              "    </g>\n",
              "</svg>\n",
              "  </button>\n",
              "\n",
              "<style>\n",
              "  .colab-df-quickchart {\n",
              "      --bg-color: #E8F0FE;\n",
              "      --fill-color: #1967D2;\n",
              "      --hover-bg-color: #E2EBFA;\n",
              "      --hover-fill-color: #174EA6;\n",
              "      --disabled-fill-color: #AAA;\n",
              "      --disabled-bg-color: #DDD;\n",
              "  }\n",
              "\n",
              "  [theme=dark] .colab-df-quickchart {\n",
              "      --bg-color: #3B4455;\n",
              "      --fill-color: #D2E3FC;\n",
              "      --hover-bg-color: #434B5C;\n",
              "      --hover-fill-color: #FFFFFF;\n",
              "      --disabled-bg-color: #3B4455;\n",
              "      --disabled-fill-color: #666;\n",
              "  }\n",
              "\n",
              "  .colab-df-quickchart {\n",
              "    background-color: var(--bg-color);\n",
              "    border: none;\n",
              "    border-radius: 50%;\n",
              "    cursor: pointer;\n",
              "    display: none;\n",
              "    fill: var(--fill-color);\n",
              "    height: 32px;\n",
              "    padding: 0;\n",
              "    width: 32px;\n",
              "  }\n",
              "\n",
              "  .colab-df-quickchart:hover {\n",
              "    background-color: var(--hover-bg-color);\n",
              "    box-shadow: 0 1px 2px rgba(60, 64, 67, 0.3), 0 1px 3px 1px rgba(60, 64, 67, 0.15);\n",
              "    fill: var(--button-hover-fill-color);\n",
              "  }\n",
              "\n",
              "  .colab-df-quickchart-complete:disabled,\n",
              "  .colab-df-quickchart-complete:disabled:hover {\n",
              "    background-color: var(--disabled-bg-color);\n",
              "    fill: var(--disabled-fill-color);\n",
              "    box-shadow: none;\n",
              "  }\n",
              "\n",
              "  .colab-df-spinner {\n",
              "    border: 2px solid var(--fill-color);\n",
              "    border-color: transparent;\n",
              "    border-bottom-color: var(--fill-color);\n",
              "    animation:\n",
              "      spin 1s steps(1) infinite;\n",
              "  }\n",
              "\n",
              "  @keyframes spin {\n",
              "    0% {\n",
              "      border-color: transparent;\n",
              "      border-bottom-color: var(--fill-color);\n",
              "      border-left-color: var(--fill-color);\n",
              "    }\n",
              "    20% {\n",
              "      border-color: transparent;\n",
              "      border-left-color: var(--fill-color);\n",
              "      border-top-color: var(--fill-color);\n",
              "    }\n",
              "    30% {\n",
              "      border-color: transparent;\n",
              "      border-left-color: var(--fill-color);\n",
              "      border-top-color: var(--fill-color);\n",
              "      border-right-color: var(--fill-color);\n",
              "    }\n",
              "    40% {\n",
              "      border-color: transparent;\n",
              "      border-right-color: var(--fill-color);\n",
              "      border-top-color: var(--fill-color);\n",
              "    }\n",
              "    60% {\n",
              "      border-color: transparent;\n",
              "      border-right-color: var(--fill-color);\n",
              "    }\n",
              "    80% {\n",
              "      border-color: transparent;\n",
              "      border-right-color: var(--fill-color);\n",
              "      border-bottom-color: var(--fill-color);\n",
              "    }\n",
              "    90% {\n",
              "      border-color: transparent;\n",
              "      border-bottom-color: var(--fill-color);\n",
              "    }\n",
              "  }\n",
              "</style>\n",
              "\n",
              "  <script>\n",
              "    async function quickchart(key) {\n",
              "      const quickchartButtonEl =\n",
              "        document.querySelector('#' + key + ' button');\n",
              "      quickchartButtonEl.disabled = true;  // To prevent multiple clicks.\n",
              "      quickchartButtonEl.classList.add('colab-df-spinner');\n",
              "      try {\n",
              "        const charts = await google.colab.kernel.invokeFunction(\n",
              "            'suggestCharts', [key], {});\n",
              "      } catch (error) {\n",
              "        console.error('Error during call to suggestCharts:', error);\n",
              "      }\n",
              "      quickchartButtonEl.classList.remove('colab-df-spinner');\n",
              "      quickchartButtonEl.classList.add('colab-df-quickchart-complete');\n",
              "    }\n",
              "    (() => {\n",
              "      let quickchartButtonEl =\n",
              "        document.querySelector('#df-89e42338-eb17-4c1d-953a-01e4dfaad510 button');\n",
              "      quickchartButtonEl.style.display =\n",
              "        google.colab.kernel.accessAllowed ? 'block' : 'none';\n",
              "    })();\n",
              "  </script>\n",
              "</div>\n",
              "    </div>\n",
              "  </div>\n"
            ],
            "application/vnd.google.colaboratory.intrinsic+json": {
              "type": "dataframe",
              "variable_name": "df",
              "summary": "{\n  \"name\": \"df\",\n  \"rows\": 768,\n  \"fields\": [\n    {\n      \"column\": \"preg\",\n      \"properties\": {\n        \"dtype\": \"number\",\n        \"std\": 3,\n        \"min\": 0,\n        \"max\": 17,\n        \"num_unique_values\": 17,\n        \"samples\": [\n          6,\n          1,\n          3\n        ],\n        \"semantic_type\": \"\",\n        \"description\": \"\"\n      }\n    },\n    {\n      \"column\": \"plas\",\n      \"properties\": {\n        \"dtype\": \"number\",\n        \"std\": 31,\n        \"min\": 0,\n        \"max\": 199,\n        \"num_unique_values\": 136,\n        \"samples\": [\n          151,\n          101,\n          112\n        ],\n        \"semantic_type\": \"\",\n        \"description\": \"\"\n      }\n    },\n    {\n      \"column\": \"pres\",\n      \"properties\": {\n        \"dtype\": \"number\",\n        \"std\": 19,\n        \"min\": 0,\n        \"max\": 122,\n        \"num_unique_values\": 47,\n        \"samples\": [\n          86,\n          46,\n          85\n        ],\n        \"semantic_type\": \"\",\n        \"description\": \"\"\n      }\n    },\n    {\n      \"column\": \"skin\",\n      \"properties\": {\n        \"dtype\": \"number\",\n        \"std\": 15,\n        \"min\": 0,\n        \"max\": 99,\n        \"num_unique_values\": 51,\n        \"samples\": [\n          7,\n          12,\n          48\n        ],\n        \"semantic_type\": \"\",\n        \"description\": \"\"\n      }\n    },\n    {\n      \"column\": \"insu\",\n      \"properties\": {\n        \"dtype\": \"number\",\n        \"std\": 115,\n        \"min\": 0,\n        \"max\": 846,\n        \"num_unique_values\": 186,\n        \"samples\": [\n          52,\n          41,\n          183\n        ],\n        \"semantic_type\": \"\",\n        \"description\": \"\"\n      }\n    },\n    {\n      \"column\": \"mass\",\n      \"properties\": {\n        \"dtype\": \"number\",\n        \"std\": 7.884160320375446,\n        \"min\": 0.0,\n        \"max\": 67.1,\n        \"num_unique_values\": 248,\n        \"samples\": [\n          19.9,\n          31.0,\n          38.1\n        ],\n        \"semantic_type\": \"\",\n        \"description\": \"\"\n      }\n    },\n    {\n      \"column\": \"pedi\",\n      \"properties\": {\n        \"dtype\": \"number\",\n        \"std\": 0.3313285950127749,\n        \"min\": 0.078,\n        \"max\": 2.42,\n        \"num_unique_values\": 517,\n        \"samples\": [\n          1.731,\n          0.426,\n          0.138\n        ],\n        \"semantic_type\": \"\",\n        \"description\": \"\"\n      }\n    },\n    {\n      \"column\": \"age\",\n      \"properties\": {\n        \"dtype\": \"number\",\n        \"std\": 11,\n        \"min\": 21,\n        \"max\": 81,\n        \"num_unique_values\": 52,\n        \"samples\": [\n          60,\n          47,\n          72\n        ],\n        \"semantic_type\": \"\",\n        \"description\": \"\"\n      }\n    },\n    {\n      \"column\": \"class\",\n      \"properties\": {\n        \"dtype\": \"category\",\n        \"num_unique_values\": 2,\n        \"samples\": [\n          \"tested_negative\",\n          \"tested_positive\"\n        ],\n        \"semantic_type\": \"\",\n        \"description\": \"\"\n      }\n    }\n  ]\n}"
            }
          },
          "metadata": {},
          "execution_count": 8
        }
      ]
    },
    {
      "cell_type": "markdown",
      "source": [
        "Comentários:\n",
        "\n",
        "1. O problema de **classificação** acima consiste em predizer se um indivíduo tem ou não diabetes baseado em características como idade e massaa corporal, além de resultados de exames. O **atributo-alvo (classe)** do problema é o atributo class, que pode assumir dois valores: tested positive ou tested negative para diabetes. Sendo assim, se trata de um problema de **classificação binário**. Os atributos usados para predição são chamados de **atributos preditores**.  \n",
        "\n",
        "2. Cada linha da tabela corresponde a um **exemplo ou instância**. A partir de um conjunto de** exemplos de treinamento**, um algoritmo de aprendizado de máquina constrói um **classificador** ou **modelo de classificação**.\n",
        "\n",
        "3. Um modelo de classificação pode ser visto como uma função que relaciona os atributos preditores ao atributo-alvo. O modelo aprendido a partir dos dados de treinamento **aproxima** a função real de classificação, que é uma função desconhecida.\n",
        "\n",
        "4. Cada algoritmo estima modelos com estruturas específicas. O melhor algoritmos dependerá do problema em questão."
      ],
      "metadata": {
        "id": "2cnV0cxNmRkQ"
      }
    },
    {
      "cell_type": "markdown",
      "source": [
        "**TRAINING AND TEST EXAMPLES**"
      ],
      "metadata": {
        "id": "QkyPPZVwlLQk"
      }
    },
    {
      "cell_type": "code",
      "source": [
        "from sklearn.model_selection import train_test_split\n",
        "\n",
        "X = df.drop(columns=['class'])\n",
        "Y = df['class']\n",
        "\n",
        "# Separando os dados em treinamento(75%) e teste(25%)\n",
        "\n",
        "X_train, X_test, Y_train, Y_test = train_test_split(X, Y, test_size=0.25)\n"
      ],
      "metadata": {
        "id": "8hyzniM3WthI"
      },
      "execution_count": 9,
      "outputs": []
    },
    {
      "cell_type": "markdown",
      "source": [
        "Comentários:\n",
        "\n",
        "1. Normalmente se considera um **conjunto de treinamento** usado para construir o modelo de classificação e um **conjunto de teste** independente para avaliar o desempenho preditivo do modelo construído.\n",
        "\n",
        "2. Sempre é importante avaliar em dados de teste não usados no treinamento. Para modelos complexos sempre é possível aproximar os dados de treinamento perfeitamente, i.e., aprender um modelo que não comete erros de predição para os dados de treinamento. No entanto, fazer isso pode levar a um **superajuste (ou overfitting)** dos dados de treinamento, i.e., o modelo aprende exceções dos dados que não estarão presentes nos dados de teste.\n",
        "\n",
        "3. O ideal é aprender modelos que **generalizem** bem, i.e., o modelo deve aprender características gerais do problema de classificação e ser complexo apenas o necessário."
      ],
      "metadata": {
        "id": "0eFv-EKPnh3p"
      }
    },
    {
      "cell_type": "markdown",
      "source": [
        "### **LEARNING A DECISION TREE**"
      ],
      "metadata": {
        "id": "n3i7ZNDsf8dk"
      }
    },
    {
      "cell_type": "markdown",
      "source": [
        "Árvores de decisão são modelos que particionam os exemplos de treinamento usado testes sucessivos sobre os atributos preditores. A cada teste realizado, os exemplos de treinamento de uma mesma classe são separados dos demais exemplos. A classificação final é realizada nos nós terminais, associados a um classe específica, normalmente a classe majoritária entre os exemplos de treinamento que atingem o nó.  "
      ],
      "metadata": {
        "id": "m-fD0rurqcSW"
      }
    },
    {
      "cell_type": "markdown",
      "source": [
        "**Fitting a tree**"
      ],
      "metadata": {
        "id": "FFT7LlzhkOLw"
      }
    },
    {
      "cell_type": "code",
      "source": [
        "from sklearn.tree import DecisionTreeClassifier\n",
        "\n",
        "dt = DecisionTreeClassifier(criterion = 'entropy',max_depth = 2,min_samples_leaf = 30)\n",
        "\n",
        "dt.fit(X_train, Y_train)\n",
        "\n",
        "\n"
      ],
      "metadata": {
        "id": "ST3lKq4TBThC",
        "colab": {
          "base_uri": "https://localhost:8080/",
          "height": 74
        },
        "outputId": "89989967-9c39-4ba9-d843-ae00cec413c1"
      },
      "execution_count": 13,
      "outputs": [
        {
          "output_type": "execute_result",
          "data": {
            "text/plain": [
              "DecisionTreeClassifier(criterion='entropy', max_depth=2, min_samples_leaf=30)"
            ],
            "text/html": [
              "<style>#sk-container-id-4 {color: black;background-color: white;}#sk-container-id-4 pre{padding: 0;}#sk-container-id-4 div.sk-toggleable {background-color: white;}#sk-container-id-4 label.sk-toggleable__label {cursor: pointer;display: block;width: 100%;margin-bottom: 0;padding: 0.3em;box-sizing: border-box;text-align: center;}#sk-container-id-4 label.sk-toggleable__label-arrow:before {content: \"▸\";float: left;margin-right: 0.25em;color: #696969;}#sk-container-id-4 label.sk-toggleable__label-arrow:hover:before {color: black;}#sk-container-id-4 div.sk-estimator:hover label.sk-toggleable__label-arrow:before {color: black;}#sk-container-id-4 div.sk-toggleable__content {max-height: 0;max-width: 0;overflow: hidden;text-align: left;background-color: #f0f8ff;}#sk-container-id-4 div.sk-toggleable__content pre {margin: 0.2em;color: black;border-radius: 0.25em;background-color: #f0f8ff;}#sk-container-id-4 input.sk-toggleable__control:checked~div.sk-toggleable__content {max-height: 200px;max-width: 100%;overflow: auto;}#sk-container-id-4 input.sk-toggleable__control:checked~label.sk-toggleable__label-arrow:before {content: \"▾\";}#sk-container-id-4 div.sk-estimator input.sk-toggleable__control:checked~label.sk-toggleable__label {background-color: #d4ebff;}#sk-container-id-4 div.sk-label input.sk-toggleable__control:checked~label.sk-toggleable__label {background-color: #d4ebff;}#sk-container-id-4 input.sk-hidden--visually {border: 0;clip: rect(1px 1px 1px 1px);clip: rect(1px, 1px, 1px, 1px);height: 1px;margin: -1px;overflow: hidden;padding: 0;position: absolute;width: 1px;}#sk-container-id-4 div.sk-estimator {font-family: monospace;background-color: #f0f8ff;border: 1px dotted black;border-radius: 0.25em;box-sizing: border-box;margin-bottom: 0.5em;}#sk-container-id-4 div.sk-estimator:hover {background-color: #d4ebff;}#sk-container-id-4 div.sk-parallel-item::after {content: \"\";width: 100%;border-bottom: 1px solid gray;flex-grow: 1;}#sk-container-id-4 div.sk-label:hover label.sk-toggleable__label {background-color: #d4ebff;}#sk-container-id-4 div.sk-serial::before {content: \"\";position: absolute;border-left: 1px solid gray;box-sizing: border-box;top: 0;bottom: 0;left: 50%;z-index: 0;}#sk-container-id-4 div.sk-serial {display: flex;flex-direction: column;align-items: center;background-color: white;padding-right: 0.2em;padding-left: 0.2em;position: relative;}#sk-container-id-4 div.sk-item {position: relative;z-index: 1;}#sk-container-id-4 div.sk-parallel {display: flex;align-items: stretch;justify-content: center;background-color: white;position: relative;}#sk-container-id-4 div.sk-item::before, #sk-container-id-4 div.sk-parallel-item::before {content: \"\";position: absolute;border-left: 1px solid gray;box-sizing: border-box;top: 0;bottom: 0;left: 50%;z-index: -1;}#sk-container-id-4 div.sk-parallel-item {display: flex;flex-direction: column;z-index: 1;position: relative;background-color: white;}#sk-container-id-4 div.sk-parallel-item:first-child::after {align-self: flex-end;width: 50%;}#sk-container-id-4 div.sk-parallel-item:last-child::after {align-self: flex-start;width: 50%;}#sk-container-id-4 div.sk-parallel-item:only-child::after {width: 0;}#sk-container-id-4 div.sk-dashed-wrapped {border: 1px dashed gray;margin: 0 0.4em 0.5em 0.4em;box-sizing: border-box;padding-bottom: 0.4em;background-color: white;}#sk-container-id-4 div.sk-label label {font-family: monospace;font-weight: bold;display: inline-block;line-height: 1.2em;}#sk-container-id-4 div.sk-label-container {text-align: center;}#sk-container-id-4 div.sk-container {/* jupyter's `normalize.less` sets `[hidden] { display: none; }` but bootstrap.min.css set `[hidden] { display: none !important; }` so we also need the `!important` here to be able to override the default hidden behavior on the sphinx rendered scikit-learn.org. See: https://github.com/scikit-learn/scikit-learn/issues/21755 */display: inline-block !important;position: relative;}#sk-container-id-4 div.sk-text-repr-fallback {display: none;}</style><div id=\"sk-container-id-4\" class=\"sk-top-container\"><div class=\"sk-text-repr-fallback\"><pre>DecisionTreeClassifier(criterion=&#x27;entropy&#x27;, max_depth=2, min_samples_leaf=30)</pre><b>In a Jupyter environment, please rerun this cell to show the HTML representation or trust the notebook. <br />On GitHub, the HTML representation is unable to render, please try loading this page with nbviewer.org.</b></div><div class=\"sk-container\" hidden><div class=\"sk-item\"><div class=\"sk-estimator sk-toggleable\"><input class=\"sk-toggleable__control sk-hidden--visually\" id=\"sk-estimator-id-4\" type=\"checkbox\" checked><label for=\"sk-estimator-id-4\" class=\"sk-toggleable__label sk-toggleable__label-arrow\">DecisionTreeClassifier</label><div class=\"sk-toggleable__content\"><pre>DecisionTreeClassifier(criterion=&#x27;entropy&#x27;, max_depth=2, min_samples_leaf=30)</pre></div></div></div></div></div>"
            ]
          },
          "metadata": {},
          "execution_count": 13
        }
      ]
    },
    {
      "cell_type": "markdown",
      "source": [
        "Comentários:\n",
        "\n",
        "1. Cada algoritmo de aprendizado pode estar associados a **hiperparâmetros** específicos que impactam na estrutura do modelo aprendido. No código acima, por exemplo, o hiperparâmetro max-depth controla a **profundidade máxima** da árvore de decisão aprendida.\n",
        "\n",
        "2. Um valor muito baixo para profundidade da árvore pode gerar um modelo muito simples, não suficiente para aproximar bem a função real do problema de classificação. Por outro lado, um valor muito alto pode resultado em overfitting dos dados de treinamento.\n",
        "\n",
        "3. Outros algoritmos também apresentam hiperparâmetros que de uma forma ou de outra controlam a **complexidade** dos modelos de classificação gerados."
      ],
      "metadata": {
        "id": "i0kmMQXWrtty"
      }
    },
    {
      "cell_type": "markdown",
      "source": [
        "**Code to visualize the tree**"
      ],
      "metadata": {
        "id": "kJL1TXR7BCOo"
      }
    },
    {
      "cell_type": "code",
      "source": [
        "from sklearn import tree\n",
        "\n",
        "\n",
        "tree.plot_tree(dt, feature_names = X.columns, class_names=['negative', \"positive\"],filled = True);\n"
      ],
      "metadata": {
        "colab": {
          "base_uri": "https://localhost:8080/",
          "height": 406
        },
        "id": "lIpX1RL9hiys",
        "outputId": "65c1ebc9-c0fd-49ec-85b9-6408641cb70f"
      },
      "execution_count": 16,
      "outputs": [
        {
          "output_type": "display_data",
          "data": {
            "text/plain": [
              "<Figure size 640x480 with 1 Axes>"
            ],
            "image/png": "[encoded data removed]"
          },
          "metadata": {}
        }
      ]
    },
    {
      "cell_type": "markdown",
      "source": [
        "Comentários:\n",
        "\n",
        "1. Um teste na árvore de decisão cria um plano de separação no espaço de exemplos. Dois testes aplicados de forma sucessiva cria um retângulo delimitando uma região de exemplos, três testes definem um cubo, quatro testes em diante forma o que chamamos de hipercubos.\n",
        "\n",
        "2. Por essa razão, as superfíceis de seraração de uma árvore de decisão em geral são muito simples, que nem sempre são suficientes para problemas com **fronteiras de classe** mais complexas.\n",
        "\n",
        "3. No entanto, é um **modelo interpretável** e que pode produzir insights interessantes sobre o problema em mãos. Cada nó terminal pode ser considerado uma regra local, i.e., um conhecimento válido para um conjunto específico de instâncias. Cada regra pod inclusive ser avaliada de forma separada, usando métricas de confiança e suporte.\n",
        "\n",
        "4. Probabilidades de classe podem ser estimadas a partir a distribuição de classes dos exemplos de treinamento que alcançam o nó. Por exemplo, se um dado nó apresenta 50 exemplos da classe positiva e 18 exemplos da classe negativa, então a probabilidade estimada para a classe positiva seria 50/(50+18) ~ 0.73. Ou seja, caso um novo exemplo a ser predito alcance esse nó terminal, podemos dizer que a probabilidade estimada do exemplo pertencer a classe positiva é de 0.73. Essa probabilidade se chama **probabilidade condicional ou probabilidade à posteriori**, i.e., probabilidade de classe condicionada pelos valores dos atributos do exemplo (P(Y|X)).\n",
        "\n",
        "5. As probabilidades condicionais normalmente são diferentes das **probabilides à priori**, que são estimadas pela frequencia de exemplos de cada classe na base de treinamento."
      ],
      "metadata": {
        "id": "8bwG4GT3sk7e"
      }
    },
    {
      "cell_type": "markdown",
      "source": [
        "### **TESTING THE DECISION TREE**"
      ],
      "metadata": {
        "id": "LDdcIMEeXQcH"
      }
    },
    {
      "cell_type": "markdown",
      "source": [
        "--- Computing the model accuracy"
      ],
      "metadata": {
        "id": "ZBjFQGnhVXAD"
      }
    },
    {
      "cell_type": "code",
      "source": [
        "from sklearn.metrics import accuracy_score\n",
        "\n",
        "Yhat = dt.predict(X_test)\n",
        "\n",
        "print(\"Acurácia dos dados de teste  : \", accuracy_score(Y_test,Yhat))"
      ],
      "metadata": {
        "colab": {
          "base_uri": "https://localhost:8080/"
        },
        "id": "wUmAozBvQEkr",
        "outputId": "c6d99667-ac69-4942-fd4d-189aec017280"
      },
      "execution_count": 17,
      "outputs": [
        {
          "output_type": "stream",
          "name": "stdout",
          "text": [
            "Acurácia dos dados de teste  :  0.71875\n"
          ]
        }
      ]
    },
    {
      "cell_type": "markdown",
      "source": [
        "Observação: A **acurária** simplesmente calcula a proporção de acertos total do modelo para os dados de teste."
      ],
      "metadata": {
        "id": "3s7SFKqMuomE"
      }
    },
    {
      "cell_type": "markdown",
      "source": [
        "---- Confusion matrix"
      ],
      "metadata": {
        "id": "cOF73NlWVS59"
      }
    },
    {
      "cell_type": "markdown",
      "source": [
        "A **matrix de confusão** apresenta os acertos e erros do modelo nos dados usados para teste. Também pod ser chamada de **matriz de contingência**."
      ],
      "metadata": {
        "id": "K3YhOMlnwqKk"
      }
    },
    {
      "cell_type": "code",
      "source": [
        "from sklearn.metrics import confusion_matrix, ConfusionMatrixDisplay\n",
        "import matplotlib.pyplot as plt\n",
        "\n",
        "# Displaying the confusion matrix\n",
        "\n",
        "cm = confusion_matrix(Y_test, Yhat, labels=dt.classes_)\n",
        "\n",
        "disp = ConfusionMatrixDisplay(confusion_matrix=cm,display_labels=dt.classes_)\n",
        "\n",
        "disp.plot()\n",
        "\n",
        "plt.show()"
      ],
      "metadata": {
        "colab": {
          "base_uri": "https://localhost:8080/",
          "height": 450
        },
        "id": "Mtc8pgWXUCVT",
        "outputId": "42bdf2f5-f4d2-4eae-e845-1ec3c01a2395"
      },
      "execution_count": 18,
      "outputs": [
        {
          "output_type": "display_data",
          "data": {
            "text/plain": [
              "<Figure size 640x480 with 2 Axes>"
            ],
            "image/png": "[encoded data removed]"
          },
          "metadata": {}
        }
      ]
    },
    {
      "cell_type": "markdown",
      "source": [
        "Comentários:\n",
        "\n",
        "1. Em problemas de classificação binária, podemos distinguir quatro casos:\n",
        "\n",
        "(a) Verdadeiros positivos (VP): exemplos de teste da classe positiva classificados corretamente pelo modelo como sendo da classe positiva;  \n",
        "\n",
        "(b) Verdadeiros negativos (VN): exemplos de teste da classe negativa classificados corretamente pelo modelo como sendo da classe negativa;\n",
        "\n",
        "(c) Falsos positivos (FP): exemplos de teste da classe negativa classificados erroneamente pelo modelo como sendo da classe positiva;\n",
        "\n",
        "(d) Falsos negativos (FN): exemplos de teste da classe positiva classificados erroneamente pelo modelo como sendo da classe negativa.\n",
        "\n",
        "2. Em muitos casos, como no diagnóstivo médico, a classe positiva é a classe de maior interesse, uma vez que um falso negativo tende a ter consequencias muito mais negativas em comparação com um falso positivo (que seria \"apenas\" um falso alarme).\n",
        "\n",
        "3. Note que o numero de predições positivas do modelo é o numero de VP + FP. Em muitas situações, é possivel forçar modelos que apresentem uma taxa maior de predições positivas, visando aumentos a taxa de VP, mesmo a despeito de um acréscimo na taxa de FP. Esse mecanismo é a base da análise da curva ROC."
      ],
      "metadata": {
        "id": "vwV2iDcGw4GH"
      }
    },
    {
      "cell_type": "markdown",
      "source": [
        "### **LEARNING A RANDOM FOREST MODEL**"
      ],
      "metadata": {
        "id": "2_qTMyoJXw1t"
      }
    },
    {
      "cell_type": "markdown",
      "source": [
        "Random Forests são modelo que combinam várias (possivelmente centenas) árvores de decisão, visando aumento do desempenho preditivo. Cada árvore de decisão é treinada usando um subconjunto de exemplos e atributos diferentes. No final, teremos umn comitê de árvores de decisão que serão combinadas para predizer a classe de cada exemplo de teste. A predição é feita considerando a classe mais frequente entre as predições das árvores de decisão do comitê;"
      ],
      "metadata": {
        "id": "ffhE7Jliyatl"
      }
    },
    {
      "cell_type": "code",
      "source": [
        "\n",
        "from sklearn.ensemble import RandomForestClassifier\n",
        "\n",
        "rf = RandomForestClassifier(n_estimators = 200, max_features = 3)\n",
        "\n",
        "rf.fit(X_train, Y_train)"
      ],
      "metadata": {
        "id": "E0vz77SSn1FL",
        "colab": {
          "base_uri": "https://localhost:8080/",
          "height": 74
        },
        "outputId": "9d9ac217-978e-443f-e326-8bfe80a7a590"
      },
      "execution_count": 19,
      "outputs": [
        {
          "output_type": "execute_result",
          "data": {
            "text/plain": [
              "RandomForestClassifier(max_features=3, n_estimators=200)"
            ],
            "text/html": [
              "<style>#sk-container-id-5 {color: black;background-color: white;}#sk-container-id-5 pre{padding: 0;}#sk-container-id-5 div.sk-toggleable {background-color: white;}#sk-container-id-5 label.sk-toggleable__label {cursor: pointer;display: block;width: 100%;margin-bottom: 0;padding: 0.3em;box-sizing: border-box;text-align: center;}#sk-container-id-5 label.sk-toggleable__label-arrow:before {content: \"▸\";float: left;margin-right: 0.25em;color: #696969;}#sk-container-id-5 label.sk-toggleable__label-arrow:hover:before {color: black;}#sk-container-id-5 div.sk-estimator:hover label.sk-toggleable__label-arrow:before {color: black;}#sk-container-id-5 div.sk-toggleable__content {max-height: 0;max-width: 0;overflow: hidden;text-align: left;background-color: #f0f8ff;}#sk-container-id-5 div.sk-toggleable__content pre {margin: 0.2em;color: black;border-radius: 0.25em;background-color: #f0f8ff;}#sk-container-id-5 input.sk-toggleable__control:checked~div.sk-toggleable__content {max-height: 200px;max-width: 100%;overflow: auto;}#sk-container-id-5 input.sk-toggleable__control:checked~label.sk-toggleable__label-arrow:before {content: \"▾\";}#sk-container-id-5 div.sk-estimator input.sk-toggleable__control:checked~label.sk-toggleable__label {background-color: #d4ebff;}#sk-container-id-5 div.sk-label input.sk-toggleable__control:checked~label.sk-toggleable__label {background-color: #d4ebff;}#sk-container-id-5 input.sk-hidden--visually {border: 0;clip: rect(1px 1px 1px 1px);clip: rect(1px, 1px, 1px, 1px);height: 1px;margin: -1px;overflow: hidden;padding: 0;position: absolute;width: 1px;}#sk-container-id-5 div.sk-estimator {font-family: monospace;background-color: #f0f8ff;border: 1px dotted black;border-radius: 0.25em;box-sizing: border-box;margin-bottom: 0.5em;}#sk-container-id-5 div.sk-estimator:hover {background-color: #d4ebff;}#sk-container-id-5 div.sk-parallel-item::after {content: \"\";width: 100%;border-bottom: 1px solid gray;flex-grow: 1;}#sk-container-id-5 div.sk-label:hover label.sk-toggleable__label {background-color: #d4ebff;}#sk-container-id-5 div.sk-serial::before {content: \"\";position: absolute;border-left: 1px solid gray;box-sizing: border-box;top: 0;bottom: 0;left: 50%;z-index: 0;}#sk-container-id-5 div.sk-serial {display: flex;flex-direction: column;align-items: center;background-color: white;padding-right: 0.2em;padding-left: 0.2em;position: relative;}#sk-container-id-5 div.sk-item {position: relative;z-index: 1;}#sk-container-id-5 div.sk-parallel {display: flex;align-items: stretch;justify-content: center;background-color: white;position: relative;}#sk-container-id-5 div.sk-item::before, #sk-container-id-5 div.sk-parallel-item::before {content: \"\";position: absolute;border-left: 1px solid gray;box-sizing: border-box;top: 0;bottom: 0;left: 50%;z-index: -1;}#sk-container-id-5 div.sk-parallel-item {display: flex;flex-direction: column;z-index: 1;position: relative;background-color: white;}#sk-container-id-5 div.sk-parallel-item:first-child::after {align-self: flex-end;width: 50%;}#sk-container-id-5 div.sk-parallel-item:last-child::after {align-self: flex-start;width: 50%;}#sk-container-id-5 div.sk-parallel-item:only-child::after {width: 0;}#sk-container-id-5 div.sk-dashed-wrapped {border: 1px dashed gray;margin: 0 0.4em 0.5em 0.4em;box-sizing: border-box;padding-bottom: 0.4em;background-color: white;}#sk-container-id-5 div.sk-label label {font-family: monospace;font-weight: bold;display: inline-block;line-height: 1.2em;}#sk-container-id-5 div.sk-label-container {text-align: center;}#sk-container-id-5 div.sk-container {/* jupyter's `normalize.less` sets `[hidden] { display: none; }` but bootstrap.min.css set `[hidden] { display: none !important; }` so we also need the `!important` here to be able to override the default hidden behavior on the sphinx rendered scikit-learn.org. See: https://github.com/scikit-learn/scikit-learn/issues/21755 */display: inline-block !important;position: relative;}#sk-container-id-5 div.sk-text-repr-fallback {display: none;}</style><div id=\"sk-container-id-5\" class=\"sk-top-container\"><div class=\"sk-text-repr-fallback\"><pre>RandomForestClassifier(max_features=3, n_estimators=200)</pre><b>In a Jupyter environment, please rerun this cell to show the HTML representation or trust the notebook. <br />On GitHub, the HTML representation is unable to render, please try loading this page with nbviewer.org.</b></div><div class=\"sk-container\" hidden><div class=\"sk-item\"><div class=\"sk-estimator sk-toggleable\"><input class=\"sk-toggleable__control sk-hidden--visually\" id=\"sk-estimator-id-5\" type=\"checkbox\" checked><label for=\"sk-estimator-id-5\" class=\"sk-toggleable__label sk-toggleable__label-arrow\">RandomForestClassifier</label><div class=\"sk-toggleable__content\"><pre>RandomForestClassifier(max_features=3, n_estimators=200)</pre></div></div></div></div></div>"
            ]
          },
          "metadata": {},
          "execution_count": 19
        }
      ]
    },
    {
      "cell_type": "markdown",
      "source": [
        "--- INSPÉCTING THE FEATURE IMPORTANCE"
      ],
      "metadata": {
        "id": "iLfvGfoAZS5d"
      }
    },
    {
      "cell_type": "code",
      "source": [
        "from sklearn.inspection import permutation_importance\n",
        "import matplotlib.pyplot as plt\n",
        "\n",
        "result = permutation_importance(rf, X_test, Y_test,n_repeats=30, random_state=0)\n",
        "\n",
        "forest_importances = pd.Series(result.importances_mean, index=X.columns)\n",
        "\n",
        "fig, ax = plt.subplots()\n",
        "\n",
        "forest_importances.plot.bar(yerr=result.importances_std, ax=ax)\n",
        "\n",
        "ax.set_title(\"Feature importances using permutation on full model\")\n",
        "ax.set_ylabel(\"Mean accuracy decrease\")\n",
        "fig.tight_layout()\n",
        "plt.show()"
      ],
      "metadata": {
        "colab": {
          "base_uri": "https://localhost:8080/",
          "height": 487
        },
        "id": "bPFbjJ30pUhB",
        "outputId": "69f22939-cab5-4a00-caa5-9f77ae0c5a2a"
      },
      "execution_count": 20,
      "outputs": [
        {
          "output_type": "display_data",
          "data": {
            "text/plain": [
              "<Figure size 640x480 with 1 Axes>"
            ],
            "image/png": "[encoded data removed]"
          },
          "metadata": {}
        }
      ]
    },
    {
      "cell_type": "markdown",
      "source": [
        "Comentários:\n",
        "\n",
        "1. Cada árvore de decisão do RF é um modelo fraco globalmente mas \"possivelmente\" bom localmente. A combinação de vários modelos locais é a aposta dos modelos de RF, assim como vários outros métodos de comitês (ou ensembles).\n",
        "\n",
        "2. Não faz tando sentido inspecionar cada árvore de decisão do comitê, umavez que são fracas e muitas. O modelo de RF não é diretamente interpretável, o que requer métodos de explicabilidade como o gráfico de Feature Importance acima."
      ],
      "metadata": {
        "id": "17QD5-2yzApq"
      }
    },
    {
      "cell_type": "markdown",
      "source": [
        "### **TESTING THE RANDOM FOREST MODEL**"
      ],
      "metadata": {
        "id": "F_GTGP9LYfC5"
      }
    },
    {
      "cell_type": "markdown",
      "source": [],
      "metadata": {
        "id": "kao58t2GlpIt"
      }
    },
    {
      "cell_type": "markdown",
      "source": [
        "--- Computing the model accuracy"
      ],
      "metadata": {
        "id": "5zi20nPtX8jh"
      }
    },
    {
      "cell_type": "code",
      "source": [
        "from sklearn.metrics import accuracy_score\n",
        "\n",
        "Yhat = rf.predict(X_test)\n",
        "\n",
        "print(\"Acurácia dos dados de teste  : \", accuracy_score(Y_test,Yhat))"
      ],
      "metadata": {
        "colab": {
          "base_uri": "https://localhost:8080/"
        },
        "outputId": "fbc26850-645c-47a7-b564-06070ee0e267",
        "id": "NDuZo74BX8ji"
      },
      "execution_count": 21,
      "outputs": [
        {
          "output_type": "stream",
          "name": "stdout",
          "text": [
            "Acurácia dos dados de teste  :  0.7447916666666666\n"
          ]
        }
      ]
    },
    {
      "cell_type": "markdown",
      "source": [
        "--- Computanndo predições na forma de classes preditas"
      ],
      "metadata": {
        "id": "F3OswQ4306bz"
      }
    },
    {
      "cell_type": "code",
      "source": [
        "rf.predict(X_test)\n"
      ],
      "metadata": {
        "colab": {
          "base_uri": "https://localhost:8080/"
        },
        "id": "OAQcICa9lBTt",
        "outputId": "acbe04f6-c3cc-4e4c-b24f-61ccd59de9bb"
      },
      "execution_count": 22,
      "outputs": [
        {
          "output_type": "execute_result",
          "data": {
            "text/plain": [
              "array(['tested_negative', 'tested_negative', 'tested_negative',\n",
              "       'tested_negative', 'tested_negative', 'tested_positive',\n",
              "       'tested_negative', 'tested_positive', 'tested_negative',\n",
              "       'tested_negative', 'tested_negative', 'tested_negative',\n",
              "       'tested_negative', 'tested_negative', 'tested_positive',\n",
              "       'tested_positive', 'tested_negative', 'tested_negative',\n",
              "       'tested_negative', 'tested_positive', 'tested_positive',\n",
              "       'tested_negative', 'tested_negative', 'tested_negative',\n",
              "       'tested_negative', 'tested_positive', 'tested_negative',\n",
              "       'tested_positive', 'tested_negative', 'tested_negative',\n",
              "       'tested_negative', 'tested_positive', 'tested_positive',\n",
              "       'tested_positive', 'tested_positive', 'tested_positive',\n",
              "       'tested_negative', 'tested_positive', 'tested_negative',\n",
              "       'tested_positive', 'tested_negative', 'tested_negative',\n",
              "       'tested_negative', 'tested_positive', 'tested_negative',\n",
              "       'tested_positive', 'tested_negative', 'tested_negative',\n",
              "       'tested_positive', 'tested_negative', 'tested_negative',\n",
              "       'tested_negative', 'tested_negative', 'tested_negative',\n",
              "       'tested_positive', 'tested_positive', 'tested_negative',\n",
              "       'tested_negative', 'tested_negative', 'tested_negative',\n",
              "       'tested_positive', 'tested_negative', 'tested_negative',\n",
              "       'tested_positive', 'tested_negative', 'tested_negative',\n",
              "       'tested_negative', 'tested_negative', 'tested_positive',\n",
              "       'tested_negative', 'tested_positive', 'tested_positive',\n",
              "       'tested_negative', 'tested_positive', 'tested_negative',\n",
              "       'tested_negative', 'tested_positive', 'tested_negative',\n",
              "       'tested_negative', 'tested_positive', 'tested_negative',\n",
              "       'tested_negative', 'tested_positive', 'tested_positive',\n",
              "       'tested_negative', 'tested_positive', 'tested_positive',\n",
              "       'tested_negative', 'tested_positive', 'tested_negative',\n",
              "       'tested_negative', 'tested_negative', 'tested_negative',\n",
              "       'tested_negative', 'tested_negative', 'tested_negative',\n",
              "       'tested_negative', 'tested_negative', 'tested_negative',\n",
              "       'tested_positive', 'tested_negative', 'tested_negative',\n",
              "       'tested_negative', 'tested_negative', 'tested_negative',\n",
              "       'tested_negative', 'tested_positive', 'tested_negative',\n",
              "       'tested_negative', 'tested_positive', 'tested_positive',\n",
              "       'tested_positive', 'tested_negative', 'tested_positive',\n",
              "       'tested_negative', 'tested_negative', 'tested_negative',\n",
              "       'tested_negative', 'tested_negative', 'tested_positive',\n",
              "       'tested_negative', 'tested_negative', 'tested_negative',\n",
              "       'tested_negative', 'tested_negative', 'tested_negative',\n",
              "       'tested_positive', 'tested_negative', 'tested_positive',\n",
              "       'tested_negative', 'tested_negative', 'tested_negative',\n",
              "       'tested_positive', 'tested_negative', 'tested_positive',\n",
              "       'tested_positive', 'tested_negative', 'tested_negative',\n",
              "       'tested_negative', 'tested_negative', 'tested_negative',\n",
              "       'tested_negative', 'tested_negative', 'tested_negative',\n",
              "       'tested_negative', 'tested_negative', 'tested_negative',\n",
              "       'tested_positive', 'tested_negative', 'tested_negative',\n",
              "       'tested_negative', 'tested_negative', 'tested_negative',\n",
              "       'tested_negative', 'tested_negative', 'tested_negative',\n",
              "       'tested_negative', 'tested_negative', 'tested_positive',\n",
              "       'tested_positive', 'tested_positive', 'tested_positive',\n",
              "       'tested_positive', 'tested_negative', 'tested_negative',\n",
              "       'tested_negative', 'tested_negative', 'tested_negative',\n",
              "       'tested_negative', 'tested_negative', 'tested_negative',\n",
              "       'tested_negative', 'tested_negative', 'tested_negative',\n",
              "       'tested_negative', 'tested_negative', 'tested_positive',\n",
              "       'tested_negative', 'tested_negative', 'tested_positive',\n",
              "       'tested_negative', 'tested_positive', 'tested_negative',\n",
              "       'tested_positive', 'tested_positive', 'tested_negative',\n",
              "       'tested_positive', 'tested_positive', 'tested_negative',\n",
              "       'tested_negative', 'tested_negative', 'tested_negative'],\n",
              "      dtype=object)"
            ]
          },
          "metadata": {},
          "execution_count": 22
        }
      ]
    },
    {
      "cell_type": "markdown",
      "source": [
        "--- Computando predições na forma probabilidades. A avaliação dessas probabildiades requere outras métricas como Brier score e log loss."
      ],
      "metadata": {
        "id": "hjQ80UDd0rgb"
      }
    },
    {
      "cell_type": "code",
      "source": [
        "# Returning the class probabilities if necessary\n",
        "rf.predict_proba(X_test)"
      ],
      "metadata": {
        "colab": {
          "base_uri": "https://localhost:8080/"
        },
        "id": "CewcvYnfkIqG",
        "outputId": "e99565cb-8762-4a59-c9ee-a5569b680397"
      },
      "execution_count": 24,
      "outputs": [
        {
          "output_type": "execute_result",
          "data": {
            "text/plain": [
              "array([[0.765, 0.235],\n",
              "       [0.595, 0.405],\n",
              "       [0.735, 0.265],\n",
              "       [0.765, 0.235],\n",
              "       [0.89 , 0.11 ],\n",
              "       [0.23 , 0.77 ],\n",
              "       [0.925, 0.075],\n",
              "       [0.145, 0.855],\n",
              "       [0.915, 0.085],\n",
              "       [0.89 , 0.11 ],\n",
              "       [0.955, 0.045],\n",
              "       [0.635, 0.365],\n",
              "       [0.995, 0.005],\n",
              "       [0.985, 0.015],\n",
              "       [0.225, 0.775],\n",
              "       [0.455, 0.545],\n",
              "       [0.785, 0.215],\n",
              "       [0.76 , 0.24 ],\n",
              "       [0.85 , 0.15 ],\n",
              "       [0.12 , 0.88 ],\n",
              "       [0.44 , 0.56 ],\n",
              "       [0.625, 0.375],\n",
              "       [0.845, 0.155],\n",
              "       [0.58 , 0.42 ],\n",
              "       [0.84 , 0.16 ],\n",
              "       [0.355, 0.645],\n",
              "       [0.6  , 0.4  ],\n",
              "       [0.24 , 0.76 ],\n",
              "       [0.78 , 0.22 ],\n",
              "       [0.975, 0.025],\n",
              "       [0.665, 0.335],\n",
              "       [0.495, 0.505],\n",
              "       [0.4  , 0.6  ],\n",
              "       [0.295, 0.705],\n",
              "       [0.385, 0.615],\n",
              "       [0.215, 0.785],\n",
              "       [0.705, 0.295],\n",
              "       [0.275, 0.725],\n",
              "       [0.51 , 0.49 ],\n",
              "       [0.23 , 0.77 ],\n",
              "       [0.845, 0.155],\n",
              "       [0.84 , 0.16 ],\n",
              "       [0.93 , 0.07 ],\n",
              "       [0.25 , 0.75 ],\n",
              "       [0.685, 0.315],\n",
              "       [0.095, 0.905],\n",
              "       [0.91 , 0.09 ],\n",
              "       [0.62 , 0.38 ],\n",
              "       [0.275, 0.725],\n",
              "       [0.9  , 0.1  ],\n",
              "       [0.66 , 0.34 ],\n",
              "       [0.71 , 0.29 ],\n",
              "       [0.62 , 0.38 ],\n",
              "       [0.97 , 0.03 ],\n",
              "       [0.495, 0.505],\n",
              "       [0.49 , 0.51 ],\n",
              "       [0.94 , 0.06 ],\n",
              "       [0.87 , 0.13 ],\n",
              "       [0.97 , 0.03 ],\n",
              "       [0.745, 0.255],\n",
              "       [0.18 , 0.82 ],\n",
              "       [0.695, 0.305],\n",
              "       [0.925, 0.075],\n",
              "       [0.245, 0.755],\n",
              "       [0.91 , 0.09 ],\n",
              "       [0.55 , 0.45 ],\n",
              "       [0.505, 0.495],\n",
              "       [0.535, 0.465],\n",
              "       [0.485, 0.515],\n",
              "       [0.975, 0.025],\n",
              "       [0.355, 0.645],\n",
              "       [0.47 , 0.53 ],\n",
              "       [0.975, 0.025],\n",
              "       [0.405, 0.595],\n",
              "       [0.945, 0.055],\n",
              "       [0.74 , 0.26 ],\n",
              "       [0.33 , 0.67 ],\n",
              "       [0.98 , 0.02 ],\n",
              "       [0.915, 0.085],\n",
              "       [0.435, 0.565],\n",
              "       [0.77 , 0.23 ],\n",
              "       [0.835, 0.165],\n",
              "       [0.155, 0.845],\n",
              "       [0.23 , 0.77 ],\n",
              "       [0.885, 0.115],\n",
              "       [0.22 , 0.78 ],\n",
              "       [0.39 , 0.61 ],\n",
              "       [0.64 , 0.36 ],\n",
              "       [0.325, 0.675],\n",
              "       [0.94 , 0.06 ],\n",
              "       [0.76 , 0.24 ],\n",
              "       [0.99 , 0.01 ],\n",
              "       [0.725, 0.275],\n",
              "       [0.505, 0.495],\n",
              "       [0.96 , 0.04 ],\n",
              "       [0.66 , 0.34 ],\n",
              "       [0.97 , 0.03 ],\n",
              "       [0.595, 0.405],\n",
              "       [0.62 , 0.38 ],\n",
              "       [0.46 , 0.54 ],\n",
              "       [0.58 , 0.42 ],\n",
              "       [0.86 , 0.14 ],\n",
              "       [0.745, 0.255],\n",
              "       [0.75 , 0.25 ],\n",
              "       [0.94 , 0.06 ],\n",
              "       [0.51 , 0.49 ],\n",
              "       [0.36 , 0.64 ],\n",
              "       [0.725, 0.275],\n",
              "       [0.945, 0.055],\n",
              "       [0.205, 0.795],\n",
              "       [0.105, 0.895],\n",
              "       [0.165, 0.835],\n",
              "       [0.765, 0.235],\n",
              "       [0.43 , 0.57 ],\n",
              "       [0.6  , 0.4  ],\n",
              "       [0.925, 0.075],\n",
              "       [0.525, 0.475],\n",
              "       [0.585, 0.415],\n",
              "       [0.895, 0.105],\n",
              "       [0.385, 0.615],\n",
              "       [0.795, 0.205],\n",
              "       [0.595, 0.405],\n",
              "       [0.945, 0.055],\n",
              "       [0.9  , 0.1  ],\n",
              "       [0.9  , 0.1  ],\n",
              "       [0.96 , 0.04 ],\n",
              "       [0.39 , 0.61 ],\n",
              "       [0.865, 0.135],\n",
              "       [0.495, 0.505],\n",
              "       [0.905, 0.095],\n",
              "       [0.775, 0.225],\n",
              "       [0.695, 0.305],\n",
              "       [0.15 , 0.85 ],\n",
              "       [0.95 , 0.05 ],\n",
              "       [0.455, 0.545],\n",
              "       [0.385, 0.615],\n",
              "       [0.7  , 0.3  ],\n",
              "       [0.62 , 0.38 ],\n",
              "       [0.925, 0.075],\n",
              "       [0.97 , 0.03 ],\n",
              "       [0.985, 0.015],\n",
              "       [0.695, 0.305],\n",
              "       [0.715, 0.285],\n",
              "       [0.985, 0.015],\n",
              "       [0.875, 0.125],\n",
              "       [0.865, 0.135],\n",
              "       [0.77 , 0.23 ],\n",
              "       [0.14 , 0.86 ],\n",
              "       [0.92 , 0.08 ],\n",
              "       [0.855, 0.145],\n",
              "       [0.9  , 0.1  ],\n",
              "       [0.88 , 0.12 ],\n",
              "       [0.585, 0.415],\n",
              "       [0.945, 0.055],\n",
              "       [0.85 , 0.15 ],\n",
              "       [0.805, 0.195],\n",
              "       [0.68 , 0.32 ],\n",
              "       [0.94 , 0.06 ],\n",
              "       [0.495, 0.505],\n",
              "       [0.31 , 0.69 ],\n",
              "       [0.495, 0.505],\n",
              "       [0.195, 0.805],\n",
              "       [0.15 , 0.85 ],\n",
              "       [0.845, 0.155],\n",
              "       [0.565, 0.435],\n",
              "       [0.63 , 0.37 ],\n",
              "       [0.97 , 0.03 ],\n",
              "       [0.67 , 0.33 ],\n",
              "       [0.84 , 0.16 ],\n",
              "       [0.735, 0.265],\n",
              "       [0.645, 0.355],\n",
              "       [0.865, 0.135],\n",
              "       [0.545, 0.455],\n",
              "       [0.765, 0.235],\n",
              "       [0.595, 0.405],\n",
              "       [0.985, 0.015],\n",
              "       [0.235, 0.765],\n",
              "       [0.855, 0.145],\n",
              "       [0.965, 0.035],\n",
              "       [0.355, 0.645],\n",
              "       [0.89 , 0.11 ],\n",
              "       [0.46 , 0.54 ],\n",
              "       [0.74 , 0.26 ],\n",
              "       [0.43 , 0.57 ],\n",
              "       [0.185, 0.815],\n",
              "       [0.83 , 0.17 ],\n",
              "       [0.115, 0.885],\n",
              "       [0.295, 0.705],\n",
              "       [0.795, 0.205],\n",
              "       [0.86 , 0.14 ],\n",
              "       [0.67 , 0.33 ],\n",
              "       [0.84 , 0.16 ]])"
            ]
          },
          "metadata": {},
          "execution_count": 24
        }
      ]
    },
    {
      "cell_type": "markdown",
      "source": [
        "---- Confusion matrix"
      ],
      "metadata": {
        "id": "vp9gB_oqX8jk"
      }
    },
    {
      "cell_type": "code",
      "source": [
        "from sklearn.metrics import confusion_matrix, ConfusionMatrixDisplay\n",
        "import matplotlib.pyplot as plt\n",
        "\n",
        "# Displaying the confusion matrix\n",
        "\n",
        "cm = confusion_matrix(Y_test, Yhat, labels=rf.classes_)\n",
        "\n",
        "disp = ConfusionMatrixDisplay(confusion_matrix=cm,display_labels=rf.classes_)\n",
        "\n",
        "disp.plot()\n",
        "\n",
        "plt.show()"
      ],
      "metadata": {
        "colab": {
          "base_uri": "https://localhost:8080/",
          "height": 450
        },
        "outputId": "6554d046-4af2-4f84-bfd0-81fa11a78adc",
        "id": "hqlcu0LjX8jl"
      },
      "execution_count": 25,
      "outputs": [
        {
          "output_type": "display_data",
          "data": {
            "text/plain": [
              "<Figure size 640x480 with 2 Axes>"
            ],
            "image/png": "[encoded data removed]"
          },
          "metadata": {}
        }
      ]
    },
    {
      "cell_type": "code",
      "source": [],
      "metadata": {
        "id": "Ay9uYeUP3Zeb"
      },
      "execution_count": null,
      "outputs": []
    },
    {
      "cell_type": "markdown",
      "source": [
        "# Considerações finais"
      ],
      "metadata": {
        "id": "ifn6UPXz1S9d"
      }
    },
    {
      "cell_type": "markdown",
      "source": [
        "1. Introduzimos o problema de classificação, em que a classe de uma dada entidade de interesse (e.g., pacientes) são preditas a partir de atribuitos preditores (e.g., sintomas). Um algoritmo de aprendizado recebe como entrada um conjunto de exemplos de treinamento e com isso construi uma função (modelo) para classificações de novas instâncias.\n",
        "\n",
        "2. As predições de um modelo nem sempre (ou quase nunca) são totalmente corretas para qualquer exemplo, uma vez que: (a) relação entre os atributos preditores e o atributo alvo pode ser não-determinística em si; (b) os dados de treinamento não contém informação suficiente para estimar um bom modelo; ou (c) o algoritmo errado foi escolhido ou mal-aplicado (por exemplo, com hiperparâmetros errados).\n",
        "\n",
        "3. Pelas razões acima, sempre é importante fazer uma avaliação com um conjunto de teste independente e calcular métricas para avaliação, como a acurácia. Existem muitas outras métricas, claro.\n",
        "\n",
        "4. Existem muitos algoritmos de aprendizagem diferentes. Vimos dois modelos bem conhecidos: árvores de decisão (AD) e random forests (RF). AD são modelos interpretáveis (ditos caixa-branca) mas nbem sempre têm um bom desempenho preditivo. RF são modelos potencialmente melhores mas não são interpretáveis diretamente, o que requer ferramentas auxiliares."
      ],
      "metadata": {
        "id": "bghjGaST1YYh"
      }
    }
  ]
}